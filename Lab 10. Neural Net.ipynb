{
 "cells": [
  {
   "cell_type": "markdown",
   "metadata": {},
   "source": [
    "# Mnist with some Neural Net techniques"
   ]
  },
  {
   "cell_type": "code",
   "execution_count": 1,
   "metadata": {},
   "outputs": [
    {
     "name": "stdout",
     "output_type": "stream",
     "text": [
      "WARNING:tensorflow:From <ipython-input-1-a5bee414d2f0>:6: read_data_sets (from tensorflow.contrib.learn.python.learn.datasets.mnist) is deprecated and will be removed in a future version.\n",
      "Instructions for updating:\n",
      "Please use alternatives such as official/mnist/dataset.py from tensorflow/models.\n",
      "WARNING:tensorflow:From C:\\Users\\renz\\Anaconda3\\lib\\site-packages\\tensorflow\\contrib\\learn\\python\\learn\\datasets\\mnist.py:260: maybe_download (from tensorflow.contrib.learn.python.learn.datasets.base) is deprecated and will be removed in a future version.\n",
      "Instructions for updating:\n",
      "Please write your own downloading logic.\n",
      "WARNING:tensorflow:From C:\\Users\\renz\\Anaconda3\\lib\\site-packages\\tensorflow\\contrib\\learn\\python\\learn\\datasets\\mnist.py:262: extract_images (from tensorflow.contrib.learn.python.learn.datasets.mnist) is deprecated and will be removed in a future version.\n",
      "Instructions for updating:\n",
      "Please use tf.data to implement this functionality.\n",
      "Extracting MNIST_data/train-images-idx3-ubyte.gz\n",
      "WARNING:tensorflow:From C:\\Users\\renz\\Anaconda3\\lib\\site-packages\\tensorflow\\contrib\\learn\\python\\learn\\datasets\\mnist.py:267: extract_labels (from tensorflow.contrib.learn.python.learn.datasets.mnist) is deprecated and will be removed in a future version.\n",
      "Instructions for updating:\n",
      "Please use tf.data to implement this functionality.\n",
      "Extracting MNIST_data/train-labels-idx1-ubyte.gz\n",
      "WARNING:tensorflow:From C:\\Users\\renz\\Anaconda3\\lib\\site-packages\\tensorflow\\contrib\\learn\\python\\learn\\datasets\\mnist.py:110: dense_to_one_hot (from tensorflow.contrib.learn.python.learn.datasets.mnist) is deprecated and will be removed in a future version.\n",
      "Instructions for updating:\n",
      "Please use tf.one_hot on tensors.\n",
      "Extracting MNIST_data/t10k-images-idx3-ubyte.gz\n",
      "Extracting MNIST_data/t10k-labels-idx1-ubyte.gz\n",
      "WARNING:tensorflow:From C:\\Users\\renz\\Anaconda3\\lib\\site-packages\\tensorflow\\contrib\\learn\\python\\learn\\datasets\\mnist.py:290: DataSet.__init__ (from tensorflow.contrib.learn.python.learn.datasets.mnist) is deprecated and will be removed in a future version.\n",
      "Instructions for updating:\n",
      "Please use alternatives such as official/mnist/dataset.py from tensorflow/models.\n"
     ]
    }
   ],
   "source": [
    "import tensorflow as tf\n",
    "import numpy as np\n",
    "from tensorflow.examples.tutorials.mnist import input_data\n",
    "import random\n",
    "\n",
    "mnist = input_data.read_data_sets(\"MNIST_data/\", one_hot=True)"
   ]
  },
  {
   "cell_type": "markdown",
   "metadata": {},
   "source": [
    "## Xavier initializer and Relu"
   ]
  },
  {
   "cell_type": "code",
   "execution_count": 10,
   "metadata": {},
   "outputs": [
    {
     "name": "stdout",
     "output_type": "stream",
     "text": [
      "Epoch: 0001 cost = 0.312023668\n",
      "Epoch: 0002 cost = 0.113031819\n",
      "Epoch: 0003 cost = 0.072018764\n",
      "Epoch: 0004 cost = 0.052501910\n",
      "Epoch: 0005 cost = 0.040126262\n",
      "Epoch: 0006 cost = 0.030446557\n",
      "Epoch: 0007 cost = 0.023239105\n",
      "Epoch: 0008 cost = 0.017964378\n",
      "Epoch: 0009 cost = 0.016145557\n",
      "Epoch: 0010 cost = 0.013925456\n",
      "Epoch: 0011 cost = 0.012067837\n",
      "Epoch: 0012 cost = 0.010599672\n",
      "Epoch: 0013 cost = 0.011789021\n",
      "Epoch: 0014 cost = 0.010711190\n",
      "Epoch: 0015 cost = 0.009495273\n",
      "Accuracy: 0.9783\n"
     ]
    }
   ],
   "source": [
    "learning_rate = 0.001\n",
    "training_epochs = 15\n",
    "batch_size = 100\n",
    "\n",
    "X = tf.placeholder(tf.float32, [None, 784])\n",
    "Y = tf.placeholder(tf.float32, [None, 10])\n",
    "\n",
    "with tf.variable_scope(tf.get_variable_scope(), reuse = tf.AUTO_REUSE):\n",
    "    with tf.name_scope(\"layer1\"):\n",
    "        W1 = tf.get_variable(\"W1\", shape= [784, 256],\n",
    "                            initializer = tf.contrib.layers.xavier_initializer())\n",
    "        b1 = tf.Variable(tf.random_normal([256]))\n",
    "        L1 = tf.nn.relu(tf.matmul(X, W1) + b1)\n",
    "\n",
    "    with tf.name_scope(\"layer2\"):\n",
    "        W2 = tf.get_variable(\"W2\", shape = [256, 256],\n",
    "                            initializer = tf.contrib.layers.xavier_initializer())\n",
    "        b2 = tf.Variable(tf.random_normal([256]))\n",
    "        L2 = tf.nn.relu(tf.matmul(L1, W2) + b2)\n",
    "\n",
    "    with tf.name_scope(\"layer3\"):\n",
    "        W3 = tf.get_variable(\"W3\", shape = [256, 10],\n",
    "                            initializer = tf.contrib.layers.xavier_initializer())\n",
    "        b3 = tf.Variable(tf.random_normal([10]))\n",
    "        hypothesis = tf.matmul(L2, W3) + b3\n",
    "\n",
    "    with tf.name_scope(\"cost\"):\n",
    "        cost = tf.reduce_mean(tf.nn.softmax_cross_entropy_with_logits_v2(logits = hypothesis, labels = Y))\n",
    "\n",
    "    with tf.name_scope(\"optimizer\"):\n",
    "        optimizer = tf.train.AdamOptimizer(learning_rate=learning_rate).minimize(cost)\n",
    "    \n",
    "    \n",
    "sess = tf.Session()\n",
    "sess.run(tf.global_variables_initializer())\n",
    "\n",
    "for epoch in range(training_epochs):\n",
    "    avg_cost = 0\n",
    "    total_batch = int(mnist.train.num_examples / batch_size)\n",
    "\n",
    "    for i in range(total_batch):\n",
    "        batch_xs, batch_ys = mnist.train.next_batch(batch_size)\n",
    "        feed_dict = {X: batch_xs, Y: batch_ys}\n",
    "        c, _ = sess.run([cost, optimizer], feed_dict=feed_dict)\n",
    "        avg_cost += c / total_batch\n",
    "\n",
    "    print('Epoch:', '%04d' % (epoch + 1), 'cost =', '{:.9f}'.format(avg_cost))\n",
    "    \n",
    "\n",
    "correct_prediction = tf.equal(tf.argmax(hypothesis, 1), tf.argmax(Y, 1))\n",
    "accuracy = tf.reduce_mean(tf.cast(correct_prediction, tf.float32))\n",
    "print('Accuracy:', sess.run(accuracy, feed_dict={\n",
    "      X: mnist.test.images, Y: mnist.test.labels}))"
   ]
  },
  {
   "cell_type": "markdown",
   "metadata": {},
   "source": [
    "## Dropout and more epochs"
   ]
  },
  {
   "cell_type": "code",
   "execution_count": 16,
   "metadata": {},
   "outputs": [
    {
     "name": "stdout",
     "output_type": "stream",
     "text": [
      "Epoch: 0001 cost = 0.447230296\n",
      "Epoch: 0002 cost = 0.183472092\n",
      "Epoch: 0003 cost = 0.137296139\n",
      "Epoch: 0004 cost = 0.114249478\n",
      "Epoch: 0005 cost = 0.092754006\n",
      "Epoch: 0006 cost = 0.084230734\n",
      "Epoch: 0007 cost = 0.077799664\n",
      "Epoch: 0008 cost = 0.070198842\n",
      "Epoch: 0009 cost = 0.065014075\n",
      "Epoch: 0010 cost = 0.058881361\n",
      "Epoch: 0011 cost = 0.054732750\n",
      "Epoch: 0012 cost = 0.050395147\n",
      "Epoch: 0013 cost = 0.050243818\n",
      "Epoch: 0014 cost = 0.047657189\n",
      "Epoch: 0015 cost = 0.044184278\n",
      "Epoch: 0016 cost = 0.043198512\n",
      "Epoch: 0017 cost = 0.041642690\n",
      "Epoch: 0018 cost = 0.038554505\n",
      "Epoch: 0019 cost = 0.037806896\n",
      "Epoch: 0020 cost = 0.035680825\n",
      "Epoch: 0021 cost = 0.035343356\n",
      "Epoch: 0022 cost = 0.035745534\n",
      "Epoch: 0023 cost = 0.035329606\n",
      "Epoch: 0024 cost = 0.032526330\n",
      "Epoch: 0025 cost = 0.032533175\n",
      "Epoch: 0026 cost = 0.031915746\n",
      "Epoch: 0027 cost = 0.030660813\n",
      "Epoch: 0028 cost = 0.029115029\n",
      "Epoch: 0029 cost = 0.029354402\n",
      "Epoch: 0030 cost = 0.024843804\n",
      "Accuracy: 0.9838\n"
     ]
    }
   ],
   "source": [
    "learning_rate = 0.001\n",
    "training_epochs = 30\n",
    "batch_size = 100\n",
    "keep_prob = tf.placeholder(tf.float32)\n",
    "\n",
    "X = tf.placeholder(tf.float32, [None, 784])\n",
    "Y = tf.placeholder(tf.float32, [None, 10])\n",
    "\n",
    "with tf.variable_scope(tf.get_variable_scope(), reuse = tf.AUTO_REUSE):\n",
    "    with tf.name_scope(\"layer1\"):\n",
    "        W1 = tf.get_variable(\"W1\", shape= [784, 256],\n",
    "                            initializer = tf.contrib.layers.xavier_initializer())\n",
    "        b1 = tf.Variable(tf.random_normal([256]))\n",
    "        L1 = tf.nn.relu(tf.matmul(X, W1) + b1)\n",
    "        L1 = tf.nn.dropout(L1, keep_prob=keep_prob)\n",
    "\n",
    "    with tf.name_scope(\"layer2\"):\n",
    "        W2 = tf.get_variable(\"W2\", shape = [256, 256],\n",
    "                            initializer = tf.contrib.layers.xavier_initializer())\n",
    "        b2 = tf.Variable(tf.random_normal([256]))\n",
    "        L2 = tf.nn.relu(tf.matmul(L1, W2) + b2)\n",
    "        L2 = tf.nn.dropout(L2, keep_prob=keep_prob)\n",
    "\n",
    "    with tf.name_scope(\"layer3\"):\n",
    "        W3 = tf.get_variable(\"W3\", shape = [256, 10],\n",
    "                            initializer = tf.contrib.layers.xavier_initializer())\n",
    "        b3 = tf.Variable(tf.random_normal([10]))\n",
    "        hypothesis = tf.matmul(L2, W3) + b3\n",
    "\n",
    "    with tf.name_scope(\"cost\"):\n",
    "        cost = tf.reduce_mean(tf.nn.softmax_cross_entropy_with_logits_v2(logits = hypothesis, labels = Y))\n",
    "\n",
    "    with tf.name_scope(\"optimizer\"):\n",
    "        optimizer = tf.train.AdamOptimizer(learning_rate=learning_rate).minimize(cost)\n",
    "    \n",
    "    \n",
    "sess = tf.Session()\n",
    "sess.run(tf.global_variables_initializer())\n",
    "\n",
    "for epoch in range(training_epochs):\n",
    "    avg_cost = 0\n",
    "    total_batch = int(mnist.train.num_examples / batch_size)\n",
    "\n",
    "    for i in range(total_batch):\n",
    "        batch_xs, batch_ys = mnist.train.next_batch(batch_size)\n",
    "        feed_dict = {X: batch_xs, Y: batch_ys, keep_prob : 0.7}\n",
    "        c, _ = sess.run([cost, optimizer], feed_dict=feed_dict)\n",
    "        avg_cost += c / total_batch\n",
    "\n",
    "    print('Epoch:', '%04d' % (epoch + 1), 'cost =', '{:.9f}'.format(avg_cost))\n",
    "    \n",
    "\n",
    "correct_prediction = tf.equal(tf.argmax(hypothesis, 1), tf.argmax(Y, 1))\n",
    "accuracy = tf.reduce_mean(tf.cast(correct_prediction, tf.float32))\n",
    "print('Accuracy:', sess.run(accuracy, feed_dict={\n",
    "      X: mnist.test.images, Y: mnist.test.labels, keep_prob : 1}))"
   ]
  },
  {
   "cell_type": "code",
   "execution_count": null,
   "metadata": {},
   "outputs": [],
   "source": []
  }
 ],
 "metadata": {
  "kernelspec": {
   "display_name": "Python 3",
   "language": "python",
   "name": "python3"
  },
  "language_info": {
   "codemirror_mode": {
    "name": "ipython",
    "version": 3
   },
   "file_extension": ".py",
   "mimetype": "text/x-python",
   "name": "python",
   "nbconvert_exporter": "python",
   "pygments_lexer": "ipython3",
   "version": "3.6.6"
  }
 },
 "nbformat": 4,
 "nbformat_minor": 2
}
